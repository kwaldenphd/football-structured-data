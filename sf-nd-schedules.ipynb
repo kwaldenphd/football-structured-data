{
 "cells": [
  {
   "cell_type": "markdown",
   "id": "d5347fba",
   "metadata": {},
   "source": [
    "# Scrape Combined ND Football Schedules From Sports Reference\n",
    "\n",
    "\n",
    "\n",
    "# Load Modules Using Import"
   ]
  },
  {
   "cell_type": "code",
   "execution_count": null,
   "id": "1b3bcdb2",
   "metadata": {},
   "outputs": [],
   "source": [
    "# import requests\n",
    "import requests\n",
    "\n",
    "# import csv\n",
    "import csv\n",
    "\n",
    "# import beautifulsoup\n",
    "from bs4 import BeautifulSoup\n",
    "from bs4 import Comment\n",
    "\n",
    "# import pandas\n",
    "import pandas as pd\n",
    "\n",
    "# import numpy\n",
    "import numpy as np"
   ]
  },
  {
   "cell_type": "markdown",
   "id": "8c1f7c02",
   "metadata": {},
   "source": [
    "# Get List of Season URLs from Sports Reference"
   ]
  },
  {
   "cell_type": "code",
   "execution_count": null,
   "id": "8eaf558e",
   "metadata": {},
   "outputs": [],
   "source": [
    "# root url\n",
    "root = \"https://www.sports-reference.com/cfb/schools/notre-dame/\"\n",
    "\n",
    "# year range\n",
    "years = range(1899, 2021, 1)\n",
    "\n",
    "# url tag\n",
    "tag = \"-schedule.html\"\n",
    "\n",
    "# empty list for urls\n",
    "urls = []\n",
    "\n",
    "# for loop that concatenates full url\n",
    "for year in years:\n",
    "    urls.append(root + str(year) + tag)\n",
    "    \n",
    "# show list of urls\n",
    "urls"
   ]
  },
  {
   "cell_type": "markdown",
   "id": "aee58b46",
   "metadata": {},
   "source": [
    "# Create Dictionary That Connects Season Year With URL"
   ]
  },
  {
   "cell_type": "code",
   "execution_count": null,
   "id": "b45fc692",
   "metadata": {},
   "outputs": [],
   "source": [
    "test_dict = {years[i]: urls[i] for i in range(len(years))}\n",
    "\n",
    "test_dict"
   ]
  },
  {
   "cell_type": "markdown",
   "id": "9673998b",
   "metadata": {},
   "source": [
    "# Create Dictionary of Pandas DataFrames with Each Year's Schedule\n",
    "\n",
    "NOTE: The 1899-1935 seasons do not include an AP poll summary table  before the game information and results. The `if-else` statement in the `for` loop accounts for this varying page table structure."
   ]
  },
  {
   "cell_type": "code",
   "execution_count": null,
   "id": "2cde913c",
   "metadata": {},
   "outputs": [],
   "source": [
    "# empty dictionary\n",
    "schedules = {}\n",
    "\n",
    "# for loop that loads schedule as pandas data frame and saves dataframe as dictionary value associated with season year key\n",
    "for key, value in test_dict.items():\n",
    "    df_name = key\n",
    "    if key >= 1899 | key <= 1935:\n",
    "        try:\n",
    "            dfs = pd.read_html(value)\n",
    "            schedule = dfs[0]\n",
    "            schedule.loc[:, 'Season'] = key\n",
    "            schedules[df_name] = schedule\n",
    "        except:\n",
    "            continue\n",
    "    else:\n",
    "        try:\n",
    "            dfs = pd.read_html(value)\n",
    "            schedule = dfs[1]\n",
    "            schedule.loc[:, 'Season'] = key\n",
    "            schedules[df_name] = schedule\n",
    "        except:\n",
    "            continue"
   ]
  },
  {
   "cell_type": "markdown",
   "id": "f7ec7757",
   "metadata": {},
   "source": [
    "# Combine Dictionary of DataFrames using `pd.concat`"
   ]
  },
  {
   "cell_type": "code",
   "execution_count": null,
   "id": "0f428a80",
   "metadata": {},
   "outputs": [],
   "source": [
    "# create combined_schedule df\n",
    "combined_schedule = pd.concat(schedules.values(), ignore_index=True)\n",
    "\n",
    "# show df\n",
    "combined_schedule"
   ]
  },
  {
   "cell_type": "markdown",
   "id": "b92beff7",
   "metadata": {},
   "source": [
    "# Data Cleaning/Wrangling"
   ]
  },
  {
   "cell_type": "code",
   "execution_count": null,
   "id": "712a555c",
   "metadata": {},
   "outputs": [],
   "source": [
    "# rename columns\n",
    "combined_schedule.rename(columns = {'Unnamed: 4': 'Location', 'Unnamed: 7': 'Result'}, inplace= True)\n",
    "\n",
    "# show updated dataframe\n",
    "combined_schedule"
   ]
  },
  {
   "cell_type": "code",
   "execution_count": null,
   "id": "47ffe204",
   "metadata": {},
   "outputs": [],
   "source": [
    "# take non-null values from second Location column ('Unnamed: 5') and assign to cells in 'Location' column\n",
    "combined_schedule[\"Location\"] = np.where(combined_schedule[\"Unnamed: 5\"].notnull(), combined_schedule[\"Unnamed: 5\"], combined_schedule[\"Location\"])\n",
    "\n",
    "# take non-null values from second Result column ('Unnamed: 8') and assign to cells in 'Result' column\n",
    "combined_schedule[\"Result\"] = np.where(combined_schedule[\"Unnamed: 8\"].notnull(), combined_schedule[\"Unnamed: 8\"], combined_schedule[\"Result\"])\n",
    "\n",
    "# show updated dataframe\n",
    "combined_schedule"
   ]
  },
  {
   "cell_type": "code",
   "execution_count": null,
   "id": "7d5b8645",
   "metadata": {},
   "outputs": [],
   "source": [
    "# remove second location column\n",
    "del combined_schedule['Unnamed: 5']\n",
    "\n",
    "# remove second result column\n",
    "del combined_schedule['Unnamed: 8']\n",
    "\n",
    "# show updated dataframe\n",
    "combined_schedule"
   ]
  },
  {
   "cell_type": "code",
   "execution_count": null,
   "id": "36b040f8",
   "metadata": {},
   "outputs": [],
   "source": [
    "# replace @ symbols in Location column with 'Away' string\n",
    "combined_schedule['Location'] = combined_schedule['Location'].str.replace(\"@\", \"Away\")\n",
    "\n",
    "# replace 'N' string in Location column with 'Neutral' string\n",
    "combined_schedule['Location'] = combined_schedule['Location'].str.replace(\"N\", \"Neutral\")\n",
    "\n",
    "# replace NaN values in Location column with 'Home' string\n",
    "combined_schedule['Location'] = combined_schedule['Location'].fillna(\"Home\")\n",
    "\n",
    "# show updated dataframe\n",
    "combined_schedule"
   ]
  },
  {
   "cell_type": "code",
   "execution_count": null,
   "id": "0dd68c51",
   "metadata": {},
   "outputs": [],
   "source": [
    "# create duplicate School column to standardize school name\n",
    "combined_schedule['Standardized_School'] = combined_schedule['School']\n",
    "\n",
    "# remove rankings from new column\n",
    "combined_schedule['Standardized_School']= combined_schedule['Standardized_School'].str.replace(r'\\d', '')\n",
    "combined_schedule['Standardized_School']= combined_schedule['Standardized_School'].str.replace(r'[()]', '')\n",
    "\n",
    "# show updated dataframe\n",
    "combined_schedule"
   ]
  },
  {
   "cell_type": "code",
   "execution_count": null,
   "id": "d4119e06",
   "metadata": {},
   "outputs": [],
   "source": [
    "# create duplicate Opponents column to standardize opponent name\n",
    "combined_schedule['Standardized_Opponent'] = combined_schedule['Opponent']\n",
    "\n",
    "# remove rankings from new column\n",
    "combined_schedule['Standardized_Opponent']= combined_schedule['Standardized_Opponent'].str.replace(r'\\d', '')\n",
    "combined_schedule['Standardized_Opponent']= combined_schedule['Standardized_Opponent'].str.replace(r'[()]', '')\n",
    "\n",
    "# show updated dataframe\n",
    "combined_schedule"
   ]
  },
  {
   "cell_type": "code",
   "execution_count": null,
   "id": "a2c4d2a7",
   "metadata": {},
   "outputs": [],
   "source": [
    "# create new column for converted datetime object\n",
    "combined_schedule['Standardized_Date'] = pd.to_datetime(combined_schedule['Date'])\n",
    "\n",
    "combined_schedule"
   ]
  },
  {
   "cell_type": "code",
   "execution_count": null,
   "id": "0731aad8",
   "metadata": {},
   "outputs": [],
   "source": [
    "combined_schedule.info()"
   ]
  },
  {
   "cell_type": "code",
   "execution_count": null,
   "id": "d9c1d021",
   "metadata": {},
   "outputs": [],
   "source": [
    "# list with desired column order\n",
    "column_names = ['G', 'Season', 'Standardized_Date', 'Date', 'Day', 'Time', 'School', 'Standardized_School', 'Location', 'Opponent', 'Standardized_Opponent', 'Conf', 'Result', 'Pts', 'Opp', 'W', 'L', 'T', 'Streak', 'Notes']\n",
    "\n",
    "# reorder columns\n",
    "combined_schedule = combined_schedule.reindex(columns = column_names)\n",
    "\n",
    "# show updated dataframe\n",
    "combined_schedule"
   ]
  },
  {
   "cell_type": "markdown",
   "id": "48da4bdf",
   "metadata": {},
   "source": [
    "# Write DataFrame to CSV File"
   ]
  },
  {
   "cell_type": "code",
   "execution_count": null,
   "id": "bb9252ae",
   "metadata": {},
   "outputs": [],
   "source": [
    "# write combined_schedules dataframe to csv file\n",
    "combined_schedule.to_csv('combined_nd_schedules.csv', index=False)"
   ]
  }
 ],
 "metadata": {
  "kernelspec": {
   "display_name": "Python 3 (ipykernel)",
   "language": "python",
   "name": "python3"
  },
  "language_info": {
   "codemirror_mode": {
    "name": "ipython",
    "version": 3
   },
   "file_extension": ".py",
   "mimetype": "text/x-python",
   "name": "python",
   "nbconvert_exporter": "python",
   "pygments_lexer": "ipython3",
   "version": "3.9.7"
  }
 },
 "nbformat": 4,
 "nbformat_minor": 5
}
