{
 "cells": [
  {
   "cell_type": "markdown",
   "id": "969dc1b9",
   "metadata": {},
   "source": [
    "# Load Modules Using Import"
   ]
  },
  {
   "cell_type": "code",
   "execution_count": null,
   "id": "7f68fc83",
   "metadata": {},
   "outputs": [],
   "source": [
    "# import pandas\n",
    "import pandas as pd\n",
    "\n",
    "# import matplotlib\n",
    "import matplotlib.pyplot as plt"
   ]
  },
  {
   "cell_type": "code",
   "execution_count": null,
   "id": "6241f189",
   "metadata": {},
   "outputs": [],
   "source": [
    "import geopandas as gpd\n",
    "import warnings\n",
    "import matplotlib.pyplot as plt\n",
    "# import geoplot\n",
    "from shapely.geometry import Point\n",
    "\n",
    "warnings.filterwarnings('ignore')"
   ]
  },
  {
   "cell_type": "code",
   "execution_count": null,
   "id": "a2ef38ea",
   "metadata": {},
   "outputs": [],
   "source": [
    "# import plotly express\n",
    "import plotly.express as px\n",
    "\n",
    "# import plotly graph objects\n",
    "import plotly.graph_objects as go"
   ]
  },
  {
   "cell_type": "markdown",
   "id": "1f4b202a",
   "metadata": {},
   "source": [
    "# Exploratory Data Analysis/Visualization With Combined ND Football Schedules\n",
    "\n",
    "## Load Schedules as Pandas DataFrame"
   ]
  },
  {
   "cell_type": "code",
   "execution_count": null,
   "id": "b3af226a",
   "metadata": {},
   "outputs": [],
   "source": [
    "# load data from file to dataframe\n",
    "football = pd.read_csv(\"combined_nd_schedules_cleaned.csv\", index_col=None, parse_dates=True)\n",
    "\n",
    "# check data has loaded\n",
    "football.head()"
   ]
  },
  {
   "cell_type": "code",
   "execution_count": null,
   "id": "0af5583b",
   "metadata": {
    "scrolled": true
   },
   "outputs": [],
   "source": [
    "# create datetime object from Standardized_Date field\n",
    "football['Datetime'] = pd.to_datetime(football['Standardized_Date'])\n",
    "\n",
    "# check updated dataframe\n",
    "football.head()"
   ]
  },
  {
   "cell_type": "code",
   "execution_count": null,
   "id": "4e78f426",
   "metadata": {},
   "outputs": [],
   "source": [
    "# get list of dataframe columns\n",
    "football.info()"
   ]
  },
  {
   "cell_type": "markdown",
   "id": "242c5f46",
   "metadata": {},
   "source": [
    "## Static Data Visualization With Pandas and Matplotlib"
   ]
  },
  {
   "cell_type": "code",
   "execution_count": null,
   "id": "9f90a654",
   "metadata": {},
   "outputs": [],
   "source": [
    "# basic syntax for plotting from dataframe; default is all numeric fields and a line plot\n",
    "football.plot()"
   ]
  },
  {
   "cell_type": "code",
   "execution_count": null,
   "id": "971c2035",
   "metadata": {},
   "outputs": [],
   "source": [
    "# basic syntax for plotting single column from dataframe\n",
    "football['Datetime'].plot()"
   ]
  },
  {
   "cell_type": "code",
   "execution_count": null,
   "id": "b8f2ed81",
   "metadata": {},
   "outputs": [],
   "source": [
    "# bar plot with 'Season' on the X axis and number of wins 'W' on the Y axis\n",
    "football.plot.bar(x=\"Season\", y=\"W\")"
   ]
  },
  {
   "cell_type": "markdown",
   "id": "dc4d7340",
   "metadata": {},
   "source": [
    "### Plotting Categorical Data Using `.groupby()` and `.size()`"
   ]
  },
  {
   "cell_type": "code",
   "execution_count": null,
   "id": "020b6fa6",
   "metadata": {},
   "outputs": [],
   "source": [
    "# bar plot with number of games for each day of the week\n",
    "football.groupby('Day').size().plot(kind='bar')"
   ]
  },
  {
   "cell_type": "code",
   "execution_count": null,
   "id": "005c05f4",
   "metadata": {},
   "outputs": [],
   "source": [
    "# bar plot with overall number of wins/losses/ties \n",
    "football.groupby('Result').size().plot(kind='bar')"
   ]
  },
  {
   "cell_type": "code",
   "execution_count": null,
   "id": "6385b251",
   "metadata": {},
   "outputs": [],
   "source": [
    "# bar plot with overall number of home/away/neutral site games \n",
    "football.groupby('Game_Type').size().plot(kind='bar')"
   ]
  },
  {
   "cell_type": "markdown",
   "id": "a0066334",
   "metadata": {},
   "source": [
    "#### Additional Resources on Plotting With `pandas` and `matplotlib`\n",
    "\n",
    "- Prof. Walden's [Elements of Computing lab on visualizing data with `pandas` and `matplotlib`](https://github.com/kwaldenphd/more-with-matplotlib)\n",
    "- `pandas`, [User Guide, \"Visualization\"](https://pandas.pydata.org/docs/user_guide/visualization.html)\n",
    "- `pandas`, [Getting Started, \"Plotting\"](https://pandas.pydata.org/docs/getting_started/intro_tutorials/04_plotting.html)\n",
    "- Chapter 9 \"Plotting and Visualization\" from Wes McKinney, [*Python for Data Analysis: Data Wrangling With pandas, Numpy, and IPython*](https://www.oreilly.com/library/view/python-for-data/9781491957653/) (O'Reilly, 2017)"
   ]
  },
  {
   "cell_type": "markdown",
   "id": "3fd21f2e",
   "metadata": {},
   "source": [
    "### Plotting Geospatial Data With `geopandas`, `shapely`, and `matplotlib`\n",
    "\n",
    "**Free online geocoding services:**\n",
    "- [LocalFocus data journalism batch geocoder](https://geocode.localfocus.nl/)\n",
    "- [Texas A&M Geocoding Services](https://geoservices.tamu.edu/Services/Geocode/)\n",
    "  * *Requires creating a free account*\n",
    "  \n",
    "**Installing and Configuring `geopandas`**:\n",
    "- Anaconda\n",
    "  * Tanish Gupta, \"[Fastest Way to Intsall Geopandas in Jupyter Notebooks](https://medium.com/analytics-vidhya/fastest-way-to-install-geopandas-in-jupyter-notebook-on-windows-8f734e11fa2b)\" *Analytics Vidhya* (6 December 2020)\n",
    "  * Anaconda, \"[conda-forge packages, geopandas](https://anaconda.org/conda-forge/geopandas)\" *Anaconda documentation*\n",
    "  * GeoPandas, \"[Installation](https://geopandas.org/getting_started/install.html)\" *GeoPandas documentation*\n",
    "- Google CoLab\n",
    "  * Abdishakur Hassan, Jupyter notebook on using `geopandas` in Google CoLab, from \"[Geographic data science tutorials with Python](https://github.com/shakasom/GDS)\" *GitHub repository*\n",
    "    * [Google CoLab](https://colab.research.google.com/github/shakasom/GDS/blob/master/Part1%20-%20Introduction.ipynb)\n",
    "    * [GitHub](https://github.com/shakasom/GDS/blob/master/Part1%20-%20Introduction.ipynb)\n",
    "    * [NBViewer](https://nbviewer.jupyter.org/github/shakasom/GDS/blob/master/Part1%20-%20Introduction.ipynb)\n",
    "    \n",
    "**Getting Started With GeoPandas**:\n",
    "- Jonathan Soma, \"[Mapping with geopandas](https://jonathansoma.com/lede/foundations-2017/classes/geopandas/mapping-with-geopandas/)\" from 2017 \"[Foundations of Computing](https://jonathansoma.com/lede/foundations-2017/)\" course, Columbia Graduate School of Journalism\n",
    "- CoderzColumn, \"[Plotting Static Maps with geopandas](https://coderzcolumn.com/tutorials/data-science/plotting-static-maps-with-geopandas-working-with-geospatial-data)\" *CoderzColumn* (11 March 2020)\n",
    "- GeoPandas, \"[Plotting with Geoplot and GeoPandas](https://geopandas.org/gallery/plotting_with_geoplot.html)\" *GeoPandas documentation*"
   ]
  },
  {
   "cell_type": "code",
   "execution_count": null,
   "id": "2280edfc",
   "metadata": {},
   "outputs": [],
   "source": [
    "# scatterplot of latitude and longitude data\n",
    "football.plot(x= \"Longitude\", y=\"Latitude\", kind='scatter')"
   ]
  },
  {
   "cell_type": "markdown",
   "id": "41006217",
   "metadata": {},
   "source": [
    "<iframe width=\"100%\" height=\"520\" frameborder=\"0\" src=\"https://kwalden.carto.com/builder/be217bb8-46f4-47a1-83dc-96ccd200e175/embed\" allowfullscreen webkitallowfullscreen mozallowfullscreen oallowfullscreen msallowfullscreen></iframe>"
   ]
  },
  {
   "cell_type": "code",
   "execution_count": null,
   "id": "c5e2f24f",
   "metadata": {},
   "outputs": [],
   "source": [
    "# show available geopandas datasets (for basemaps)\n",
    "geopandas.datasets.available\n",
    "\n",
    "# world basemap from naturalearth_lowres geopandas dataset\n",
    "world = gpd.read_file(geopandas.datasets.get_path(\"naturalearth_lowres\"))\n",
    "\n",
    "# show basemap head\n",
    "world.head()"
   ]
  },
  {
   "cell_type": "code",
   "execution_count": null,
   "id": "f2ea75da",
   "metadata": {},
   "outputs": [],
   "source": [
    "# function that takes latitude and longitude columns from dataframe and creates Point field\n",
    "def make_point(row):\n",
    "    return Point(row.Longitude, row.Latitude)\n",
    "\n",
    "points = football.apply(make_point, axis=1)\n",
    "\n",
    "# create GeoDataFrame from football data and points geometry\n",
    "football_map = gpd.GeoDataFrame(football, geometry=points)\n",
    "\n",
    "# set GeoDataFrame coordinate system\n",
    "football_map.crs = {'init': 'epsg:4326'}\n",
    "\n",
    "# show head of GeoDataFrame\n",
    "football_map.head()"
   ]
  },
  {
   "cell_type": "code",
   "execution_count": null,
   "id": "af03c08d",
   "metadata": {},
   "outputs": [],
   "source": [
    "# preliminary cartesian coordinate plot of GeoDataFrame\n",
    "football_map.plot(figsize=(20,5))"
   ]
  },
  {
   "cell_type": "code",
   "execution_count": null,
   "id": "3a1c9a53",
   "metadata": {},
   "outputs": [],
   "source": [
    "# create figure axes with world basemap\n",
    "ax = world.plot(figsize=(15, 5), linewidth=0.25, edgecolor=\"white\", color=\"lightgrey\")\n",
    "\n",
    "# set axes title\n",
    "ax.set_title(\"Geography of Notre Dame Football\")\n",
    "\n",
    "# configure axes\n",
    "ax.axis('off')\n",
    "\n",
    "# plot football data with points colored by season\n",
    "football_map.plot(markersize=10, column=\"Season\", cmap='viridis', alpha=0.5, ax=ax, legend=True)"
   ]
  },
  {
   "cell_type": "markdown",
   "id": "80ecb6cb",
   "metadata": {},
   "source": [
    "### Interactive Visualization With `plotly`"
   ]
  },
  {
   "cell_type": "code",
   "execution_count": null,
   "id": "6601017f",
   "metadata": {},
   "outputs": [],
   "source": [
    "# stacked bar chart with season on x axis and number of points on y axis, colored by conference\n",
    "\n",
    "# import plotly\n",
    "import plotly.express as px\n",
    "\n",
    "# generate bar chart\n",
    "fig = px.bar(football, x=\"Season\", y=\"Pts\", color=\"Conf\", title=\"Look at all the football!\")\n",
    "\n",
    "# update x axes data type\n",
    "fig.update_xaxes(type='category')\n",
    "\n",
    "# show figure\n",
    "fig.show()"
   ]
  },
  {
   "cell_type": "code",
   "execution_count": null,
   "id": "ddccf06a",
   "metadata": {},
   "outputs": [],
   "source": [
    "# scatterplot with latitude and longitude, colored by conference\n",
    "fig = px.scatter(football, x=\"Longitude\", y=\"Latitude\", color=\"Conf\", hover_data=['Standardized_Opponent', 'Season'])\n",
    "\n",
    "# show scatterplot\n",
    "fig.show()"
   ]
  },
  {
   "cell_type": "markdown",
   "id": "656f3291",
   "metadata": {},
   "source": [
    "#### Interactive Maps with Plotly\n",
    "\n",
    "##### GeoMaps or Outline-Based Maps"
   ]
  },
  {
   "cell_type": "code",
   "execution_count": null,
   "id": "732e20f9",
   "metadata": {},
   "outputs": [],
   "source": [
    "# import plotly graph objects\n",
    "import plotly.graph_objects as go\n",
    "\n",
    "# create scattergeo plot using plotly graph_object syntax\n",
    "fig = go.Figure(data=go.Scattergeo(lon = football[\"Longitude\"], lat=football[\"Latitude\"], text = football[\"Standardized_Opponent\"], marker_color = football['Season'], mode= 'markers', marker_colorscale=px.colors.sequential.Greens))\n",
    "\n",
    "# update figure to center and zoom base map based on data parameters\n",
    "fig.update_geos(fitbounds=\"locations\", showcountries=True)\n",
    "\n",
    "# update figure layout\n",
    "fig.update_layout(height=300, margin={\"r\":0,\"t\":0,\"l\":0,\"b\":0}, title=\"Look at all the football!\")\n",
    "\n",
    "# show figure\n",
    "fig.show()"
   ]
  },
  {
   "cell_type": "code",
   "execution_count": null,
   "id": "e2682fb7",
   "metadata": {},
   "outputs": [],
   "source": [
    "# same scattergeo plot using plotly express syntax\n",
    "fball_map = px.scatter_geo(football, lat=\"Latitude\", lon=\"Longitude\", color = football['Conf'], hover_data=['Standardized_Opponent', 'Season'])\n",
    "\n",
    "fball_map.show()"
   ]
  },
  {
   "cell_type": "markdown",
   "id": "210b4682",
   "metadata": {},
   "source": [
    "##### Mapbox or Tile-Based Maps"
   ]
  },
  {
   "cell_type": "code",
   "execution_count": null,
   "id": "45f85e15",
   "metadata": {},
   "outputs": [],
   "source": [
    "# scatter_mapbox plot generated using plotly express syntax\n",
    "fig = px.scatter_mapbox(football, lat=\"Latitude\", lon=\"Longitude\", color=football[\"Conf\"],\n",
    "                  color_continuous_scale=px.colors.cyclical.IceFire, mapbox_style=\"carto-positron\")\n",
    "# show figure\n",
    "fig.show()"
   ]
  },
  {
   "cell_type": "code",
   "execution_count": null,
   "id": "37ad44fb",
   "metadata": {},
   "outputs": [],
   "source": [
    "# same scatter_mapbox plot with alternate openstreetmap tiles\n",
    "fig = px.scatter_mapbox(football, lat=\"Latitude\", lon=\"Longitude\", color=football[\"Conf\"],\n",
    "                  color_continuous_scale=px.colors.cyclical.IceFire)\n",
    "\n",
    "# update figure base map\n",
    "fig.update_layout(mapbox_style=\"open-street-map\")\n",
    "\n",
    "# update figure margin\n",
    "fig.update_layout(margin={\"r\":0,\"t\":0,\"l\":0,\"b\":0})\n",
    "\n",
    "# show figure\n",
    "fig.show()"
   ]
  },
  {
   "cell_type": "code",
   "execution_count": null,
   "id": "36bb34d4",
   "metadata": {},
   "outputs": [],
   "source": [
    "# same scatter_mapbox plot with points colored by season\n",
    "fig = px.scatter_mapbox(football, lat=\"Latitude\", lon=\"Longitude\", hover_name=\"Standardized_Opponent\", hover_data=[\"Season\", \"Result\"],\n",
    "                        color_continuous_scale=px.colors.sequential.Viridis, color=\"Season\", zoom=3, height=300, mapbox_style=\"carto-positron\")\n",
    "\n",
    "# show figure\n",
    "fig.show()"
   ]
  },
  {
   "cell_type": "markdown",
   "id": "cc7c432c",
   "metadata": {},
   "source": [
    "#### Additional Resources on Interactive Visualization With `pandas` and `plotly`\n",
    "\n",
    "- Prof. Walden's [Elements of Computing lab on interactive data visualization with `pandas` and `plotly`](https://github.com/kwaldenphd/interactive-visualization-python)\n",
    "- [`plotly` documentation and tutorials](https://plotly.com/python/)\n",
    "  * Statistical charts: [`plotly`, Plotly Python Open Source Graphing Library Statistical Charts](https://plotly.com/python/statistical-charts/)\n",
    "  * Scientific charts: [`plotly`, Plotly Python Open Source Graphing Library Scientific Charts](https://plotly.com/python/scientific-charts/)\n",
    "  * Financial charts: [`plotly`, Plotly Python Open Source Graphing Library Financial Charts](https://plotly.com/python/financial-charts/)\n",
    "  * Maps: [`plotly`, Plotly Open Source Graphing Library Maps](https://plotly.com/python/maps/)\n",
    "  * Full gallery of chart types: [`plotly`, Plotly Python Open Source Graphing Library](https://plotly.com/python/)"
   ]
  },
  {
   "cell_type": "markdown",
   "id": "2c1a1faa",
   "metadata": {},
   "source": [
    "# Exploratory Data Analysis/Visualization With Single Year ND Directory\n",
    "\n",
    "## Load Directory as Pandas DataFrame"
   ]
  },
  {
   "cell_type": "code",
   "execution_count": null,
   "id": "fbfac58f",
   "metadata": {},
   "outputs": [],
   "source": [
    "# load data from file to dataframe\n",
    "directory = pd.read_csv(\"ND_Directory_Cleaned_Geography.csv\", index_col=None)\n",
    "\n",
    "# check data has loaded\n",
    "directory.head()"
   ]
  },
  {
   "cell_type": "code",
   "execution_count": null,
   "id": "e9c3ef11",
   "metadata": {},
   "outputs": [],
   "source": [
    "# get list of dataframe columns\n",
    "directory.info()"
   ]
  },
  {
   "cell_type": "markdown",
   "id": "eef56dde",
   "metadata": {},
   "source": [
    "## Static Data Visualization With Pandas and Matplotlib\n",
    "\n",
    "### Plotting Categorical Data Using `.groupby()` and `.size()`"
   ]
  },
  {
   "cell_type": "code",
   "execution_count": null,
   "id": "dca76930",
   "metadata": {},
   "outputs": [],
   "source": [
    "# horizontal bar plot with number of students by country\n",
    "directory.groupby(\"Country\").size().plot(kind='barh')"
   ]
  },
  {
   "cell_type": "code",
   "execution_count": null,
   "id": "6da681b7",
   "metadata": {},
   "outputs": [],
   "source": [
    "# bar chart with number of students by major\n",
    "directory.groupby('Major').size().plot(kind='bar')"
   ]
  },
  {
   "cell_type": "code",
   "execution_count": null,
   "id": "ea78d99f",
   "metadata": {},
   "outputs": [],
   "source": [
    "# horizontal bar chart with number of students by state\n",
    "directory.groupby(\"State\").size().plot(kind='barh')"
   ]
  },
  {
   "cell_type": "markdown",
   "id": "79f12007",
   "metadata": {},
   "source": [
    "### Plotting Geospatial Data With `geopandas`, `shapely`, and `matplotlib`"
   ]
  },
  {
   "cell_type": "code",
   "execution_count": null,
   "id": "fb4243bb",
   "metadata": {},
   "outputs": [],
   "source": [
    "# scatterplot of latitude and longitude data\n",
    "directory.plot(x= \"Longitude\", y=\"Latitude\", kind='scatter')"
   ]
  },
  {
   "cell_type": "code",
   "execution_count": null,
   "id": "f31bf6d3",
   "metadata": {},
   "outputs": [],
   "source": [
    "# show available geopandas datasets (for basemaps)\n",
    "geopandas.datasets.available\n",
    "\n",
    "# world basemap from naturalearth_lowres geopandas dataset\n",
    "world = gpd.read_file(geopandas.datasets.get_path(\"naturalearth_lowres\"))\n",
    "\n",
    "# show basemap head\n",
    "world.head()"
   ]
  },
  {
   "cell_type": "code",
   "execution_count": null,
   "id": "c5c231f2",
   "metadata": {},
   "outputs": [],
   "source": [
    "# function that takes latitude and longitude columns from dataframe and creates Point field\n",
    "def make_point(row):\n",
    "    return Point(row.Longitude, row.Latitude)\n",
    "\n",
    "points = directory.apply(make_point, axis=1)\n",
    "\n",
    "# create GeoDataFrame from football data and points geometry\n",
    "directory_map = gpd.GeoDataFrame(directory, geometry=points)\n",
    "\n",
    "# set GeoDataFrame coordinate system\n",
    "directory_map.crs = {'init': 'epsg:4326'}\n",
    "\n",
    "# show head of GeoDataFrame\n",
    "directory_map.head()"
   ]
  },
  {
   "cell_type": "code",
   "execution_count": null,
   "id": "f34ae5c3",
   "metadata": {},
   "outputs": [],
   "source": [
    "# preliminary cartesian coordinate plot of GeoDataFrame\n",
    "directory_map.plot(figsize=(20,5))"
   ]
  },
  {
   "cell_type": "code",
   "execution_count": null,
   "id": "8aba88e2",
   "metadata": {},
   "outputs": [],
   "source": [
    "# create figure axes with world basemap\n",
    "ax = world.plot(figsize=(15, 5), linewidth=0.25, edgecolor=\"white\", color=\"lightgrey\")\n",
    "\n",
    "# set axes title\n",
    "ax.set_title(\"Geography of Notre Dame Student Body, 1922-1923\")\n",
    "\n",
    "# configure axes\n",
    "ax.axis('off')\n",
    "\n",
    "# plot directory data with points colored by major\n",
    "directory_map.plot(markersize=10, column=\"Major\", cmap='viridis', alpha=0.5, ax=ax, legend=True)"
   ]
  },
  {
   "cell_type": "markdown",
   "id": "499aa2c1",
   "metadata": {},
   "source": [
    "### Interactive Visualization With `plotly`"
   ]
  },
  {
   "cell_type": "code",
   "execution_count": null,
   "id": "6be5976e",
   "metadata": {},
   "outputs": [],
   "source": [
    "# bar chart showing number of students by major\n",
    "\n",
    "# generate bar chart\n",
    "fig = px.bar(directory, x='Major')\n",
    "\n",
    "# update xaxis to categorical variable\n",
    "fig.update_xaxes(type=\"category\")\n",
    "\n",
    "# show figure\n",
    "fig.show()"
   ]
  },
  {
   "cell_type": "code",
   "execution_count": null,
   "id": "3cf0dc7a",
   "metadata": {},
   "outputs": [],
   "source": [
    "# horizontal bar chart showing number of students by state\n",
    "\n",
    "# generate horizontal bar chart\n",
    "fig = px.bar(directory, y=\"State\", orientation=\"h\")\n",
    "\n",
    "# show figure\n",
    "fig.show()"
   ]
  },
  {
   "cell_type": "code",
   "execution_count": null,
   "id": "924e7afc",
   "metadata": {},
   "outputs": [],
   "source": [
    "# horizontal bar chart showing number of students by country\n",
    "\n",
    "# generate horizontal bar chart\n",
    "fig = px.bar(directory, y=\"Country\", orientation=\"h\")\n",
    "\n",
    "# show figure\n",
    "fig.show()"
   ]
  },
  {
   "cell_type": "markdown",
   "id": "276af68e",
   "metadata": {},
   "source": [
    "#### Interactive Maps with Plotly\n",
    "\n",
    "##### Outline or Geo-Based Maps"
   ]
  },
  {
   "cell_type": "code",
   "execution_count": null,
   "id": "6a51270f",
   "metadata": {},
   "outputs": [],
   "source": [
    "# filter dataframe to remove rows with NA values\n",
    "directory.dropna(axis='rows', inplace=True)\n",
    "\n",
    "# cast latitude column to float\n",
    "directory['Latitude'] = directory['Latitude'].apply(pd.to_numeric)\n",
    "\n",
    "# cast longitude column to float\n",
    "directory['Longitude'] = directory['Longitude'].apply(pd.to_numeric)\n",
    "\n",
    "# show updated dataframe info\n",
    "directory.info()"
   ]
  },
  {
   "cell_type": "code",
   "execution_count": null,
   "id": "a36c864d",
   "metadata": {},
   "outputs": [],
   "source": [
    "# world scatter_geo plot generated using plotly express syntax\n",
    "\n",
    "# create figure\n",
    "directory_map = px.scatter_geo(directory, lat=\"Latitude\", lon=\"Longitude\", color = directory['Major'], hover_data = ['First_Name', 'Last_Name', 'Major', 'Standardized_City_State'])\n",
    "\n",
    "# update figure geometry\n",
    "directory_map.update_geos(visible=False, showcountries=True)\n",
    "\n",
    "# show figure\n",
    "directory_map.show()"
   ]
  },
  {
   "cell_type": "code",
   "execution_count": null,
   "id": "17dc0546",
   "metadata": {},
   "outputs": [],
   "source": [
    "# US scatter_geo plot generated using plotly express syntax\n",
    "\n",
    "# create figure\n",
    "directory_map = px.scatter_geo(directory, lat=\"Latitude\", lon=\"Longitude\", \n",
    "                               color = directory['Major'], \n",
    "                               hover_data = ['First_Name', 'Last_Name', 'Major', 'Standardized_City_State'])\n",
    "\n",
    "# updated figure geometry\n",
    "directory_map.update_geos(visible=False, scope='usa', showcountries=True, \n",
    "                          showsubunits=True, subunitcolor=\"Black\")\n",
    "\n",
    "# show figure\n",
    "directory_map.show()"
   ]
  },
  {
   "cell_type": "markdown",
   "id": "fae62f76",
   "metadata": {},
   "source": [
    "##### Mapbox or Tile-Based Maps"
   ]
  },
  {
   "cell_type": "code",
   "execution_count": null,
   "id": "068cf569",
   "metadata": {},
   "outputs": [],
   "source": [
    "# scatter_mapbox plot generated using plotly express syntax\n",
    "fig = px.scatter_mapbox(directory, lat=\"Latitude\", lon=\"Longitude\", color=directory[\"Major\"],\n",
    "                        mapbox_style=\"carto-positron\")\n",
    "# show figure\n",
    "fig.show()"
   ]
  },
  {
   "cell_type": "code",
   "execution_count": null,
   "id": "fae4399d",
   "metadata": {},
   "outputs": [],
   "source": [
    "# same scatter_mapbox plot with alternate openstreetmap tiles\n",
    "fig = px.scatter_mapbox(directory, lat=\"Latitude\", lon=\"Longitude\", color=directory[\"Major\"])\n",
    "\n",
    "# update figure base map\n",
    "fig.update_layout(mapbox_style=\"open-street-map\")\n",
    "\n",
    "# update figure margin\n",
    "fig.update_layout(margin={\"r\":0,\"t\":0,\"l\":0,\"b\":0})\n",
    "\n",
    "# show figure\n",
    "fig.show()"
   ]
  },
  {
   "cell_type": "markdown",
   "id": "ba7c4509",
   "metadata": {},
   "source": [
    "# Exploratory Data Analysis/Visualization With Combined ND Football Rosters\n",
    "\n",
    "## Load Rosters as Pandas DataFrame"
   ]
  },
  {
   "cell_type": "code",
   "execution_count": null,
   "id": "d10d218f",
   "metadata": {},
   "outputs": [],
   "source": [
    "# load data from file to dataframe\n",
    "rosters = pd.read_csv(\"combined_nd_rosters.csv\", index_col=None)\n",
    "\n",
    "# check data has loaded\n",
    "rosters.head()"
   ]
  },
  {
   "cell_type": "code",
   "execution_count": null,
   "id": "2e94b3eb",
   "metadata": {},
   "outputs": [],
   "source": [
    "# create datetime object from Standardized_Date field\n",
    "rosters['Datetime'] = pd.to_datetime(rosters['Season'])\n",
    "\n",
    "# check updated dataframe\n",
    "rosters.head()"
   ]
  },
  {
   "cell_type": "code",
   "execution_count": null,
   "id": "c7de2862",
   "metadata": {},
   "outputs": [],
   "source": [
    "# get list of dataframe columns\n",
    "rosters.info()"
   ]
  },
  {
   "cell_type": "markdown",
   "id": "76369730",
   "metadata": {},
   "source": [
    "## Static Data Visualization With Pandas and Matplotlib"
   ]
  },
  {
   "cell_type": "code",
   "execution_count": null,
   "id": "b1a290ae",
   "metadata": {},
   "outputs": [],
   "source": [
    "# basic syntax for plotting from dataframe; default is all numeric fields and a line plot\n",
    "rosters.plot()"
   ]
  },
  {
   "cell_type": "code",
   "execution_count": null,
   "id": "5e88706a",
   "metadata": {},
   "outputs": [],
   "source": [
    "# basic syntax for plotting single column from dataframe\n",
    "rosters['Season'].plot()"
   ]
  },
  {
   "cell_type": "code",
   "execution_count": null,
   "id": "8c1e70bd",
   "metadata": {},
   "outputs": [],
   "source": [
    "# bar plot with 'Season' on the X axis and number of games 'G' on the Y axis\n",
    "rosters.plot.bar(x=\"Season\", y=\"G\")"
   ]
  },
  {
   "cell_type": "code",
   "execution_count": null,
   "id": "54fb82e7",
   "metadata": {},
   "outputs": [],
   "source": [
    "# scatterplot with'Season' on the X axis and Rushing Yards on the Y axis\n",
    "rosters.plot.scatter(x='Season', y='RushingTD')"
   ]
  },
  {
   "cell_type": "code",
   "execution_count": null,
   "id": "d77d943f",
   "metadata": {},
   "outputs": [],
   "source": [
    "# area plot with 'Season' on the X axis and rushing/receiving average columns on the Y axis\n",
    "rosters.plot.area(x='Season', y=['RushingAvg', 'ReceivingAvg'], stacked=False)"
   ]
  },
  {
   "cell_type": "markdown",
   "id": "e937bde8",
   "metadata": {},
   "source": [
    "### Interactive Visualization With `plotly`"
   ]
  },
  {
   "cell_type": "code",
   "execution_count": null,
   "id": "be81bf51",
   "metadata": {},
   "outputs": [],
   "source": [
    "# bar chart showing rushing average by season\n",
    "\n",
    "# generate bar chart\n",
    "fig = px.bar(rosters, x='Season', y='RushingAvg')\n",
    "\n",
    "# update xaxis to categorical variable\n",
    "fig.update_xaxes(type=\"category\")\n",
    "\n",
    "# show figure\n",
    "fig.show()"
   ]
  },
  {
   "cell_type": "code",
   "execution_count": null,
   "id": "3ef578e7",
   "metadata": {},
   "outputs": [],
   "source": [
    "# bar chart showing number of games by season\n",
    "\n",
    "# generate bar chart\n",
    "fig = px.bar(rosters.groupby('Season').count(), y='G')\n",
    "\n",
    "# update xaxis to categorical variable\n",
    "fig.update_xaxes(type=\"category\")\n",
    "\n",
    "# update figure fill color\n",
    "fig.update_traces(marker=dict(color='green'))\n",
    "\n",
    "# show figure\n",
    "fig.show()"
   ]
  },
  {
   "cell_type": "markdown",
   "id": "641da37c",
   "metadata": {},
   "source": [
    "## Merging Roster Data and Directory Data\n",
    "\n",
    "Sample workflow for merging directory data and roster data for single season/academic year (1924-1925)."
   ]
  },
  {
   "cell_type": "code",
   "execution_count": null,
   "id": "79e81fbe",
   "metadata": {},
   "outputs": [],
   "source": [
    "# create new dataframe with roster from select seasons\n",
    "single_yr_roster = rosters[rosters['Season'].isin([1923, 1924])]\n",
    "\n",
    "# show new dataframe\n",
    "single_yr_roster.head()"
   ]
  },
  {
   "cell_type": "code",
   "execution_count": null,
   "id": "3a048e84",
   "metadata": {},
   "outputs": [],
   "source": [
    "# new roster dataframe info\n",
    "single_yr_roster.info()"
   ]
  },
  {
   "cell_type": "code",
   "execution_count": null,
   "id": "bd1cfebb",
   "metadata": {},
   "outputs": [],
   "source": [
    "# show directory dataframe\n",
    "directory.head()"
   ]
  },
  {
   "cell_type": "code",
   "execution_count": null,
   "id": "8d2035f6",
   "metadata": {},
   "outputs": [],
   "source": [
    "# directory dataframe info\n",
    "directory.info()"
   ]
  },
  {
   "cell_type": "code",
   "execution_count": null,
   "id": "9d5aa7c3",
   "metadata": {},
   "outputs": [],
   "source": [
    "# SQL style join in Pandas using merge on first and last name columns\n",
    "merged_df = pd.merge(single_yr_roster, directory, how='left', left_on=['First_Name', 'Last_Name'], right_on = ['First_Name', 'Last_Name'])\n",
    "\n",
    "# show merged dataframe\n",
    "merged_df"
   ]
  },
  {
   "cell_type": "code",
   "execution_count": null,
   "id": "8f35f51b",
   "metadata": {},
   "outputs": [],
   "source": [
    "# show merged_df info\n",
    "merged_df.info()"
   ]
  },
  {
   "cell_type": "markdown",
   "id": "ec1a149d",
   "metadata": {},
   "source": [
    "## Static Data Visualization With Pandas and Matplotlib\n",
    "\n",
    "### Plotting Categorical Data Using `.groupby()` and `.size()`"
   ]
  },
  {
   "cell_type": "code",
   "execution_count": null,
   "id": "e935a9c6",
   "metadata": {},
   "outputs": [],
   "source": [
    "# horizontal bar plot with number of students by country\n",
    "merged_df.groupby(\"State\").size().plot(kind='bar')"
   ]
  },
  {
   "cell_type": "code",
   "execution_count": null,
   "id": "38801015",
   "metadata": {},
   "outputs": [],
   "source": [
    "# bar chart with number of students by major\n",
    "merged_df.groupby('Major').size().plot(kind='bar')"
   ]
  },
  {
   "cell_type": "code",
   "execution_count": null,
   "id": "c8f4a124",
   "metadata": {},
   "outputs": [],
   "source": [
    "# horizontal bar chart with number of students by state\n",
    "merged_df.groupby(\"City\").size().plot(kind='bar')"
   ]
  },
  {
   "cell_type": "markdown",
   "id": "e0c3793f",
   "metadata": {},
   "source": [
    "### Plotting Geospatial Data With `geopandas`, `shapely`, and `matplotlib`"
   ]
  },
  {
   "cell_type": "code",
   "execution_count": null,
   "id": "2edc7ec2",
   "metadata": {},
   "outputs": [],
   "source": [
    "from matplotlib import pyplot as plt\n",
    "\n",
    "# scatterplot of latitude and longitude data\n",
    "merged_df.plot(x= \"Longitude\", y=\"Latitude\", kind='scatter')"
   ]
  },
  {
   "cell_type": "code",
   "execution_count": null,
   "id": "e9b1868c",
   "metadata": {},
   "outputs": [],
   "source": [
    "# show available geopandas datasets (for basemaps)\n",
    "geopandas.datasets.available\n",
    "\n",
    "# world basemap from naturalearth_lowres geopandas dataset\n",
    "world = gpd.read_file(geopandas.datasets.get_path(\"naturalearth_lowres\"))\n",
    "\n",
    "# show basemap head\n",
    "world.head()"
   ]
  },
  {
   "cell_type": "code",
   "execution_count": null,
   "id": "33974f3a",
   "metadata": {},
   "outputs": [],
   "source": [
    "# function that takes latitude and longitude columns from dataframe and creates Point field\n",
    "def make_point(row):\n",
    "    return Point(row.Longitude, row.Latitude)\n",
    "\n",
    "points = merged_df.apply(make_point, axis=1)\n",
    "\n",
    "# create GeoDataFrame from football data and points geometry\n",
    "merged_df_map = gpd.GeoDataFrame(merged_df, geometry=points)\n",
    "\n",
    "# set GeoDataFrame coordinate system\n",
    "merged_df_map.crs = {'init': 'epsg:4326'}\n",
    "\n",
    "# show head of GeoDataFrame\n",
    "merged_df_map.head()"
   ]
  },
  {
   "cell_type": "code",
   "execution_count": null,
   "id": "9887c932",
   "metadata": {},
   "outputs": [],
   "source": [
    "# preliminary cartesian coordinate plot of GeoDataFrame\n",
    "merged_df_map.plot(figsize=(20,5))"
   ]
  },
  {
   "cell_type": "code",
   "execution_count": null,
   "id": "1b16cc69",
   "metadata": {},
   "outputs": [],
   "source": [
    "# create figure axes with world basemap\n",
    "ax = world.plot(figsize=(15, 5), linewidth=0.25, edgecolor=\"white\", color=\"lightgrey\")\n",
    "\n",
    "# set axes title\n",
    "ax.set_title(\"Geography of Notre Dame Football Student Athletes, 1922-1923\")\n",
    "\n",
    "# configure axes\n",
    "ax.axis('off')\n",
    "\n",
    "# plot directory data with points colored by major\n",
    "merged_df_map.plot(markersize=10, column=\"Major\", cmap='viridis', alpha=0.5, ax=ax, legend=True)"
   ]
  },
  {
   "cell_type": "markdown",
   "id": "6a133834",
   "metadata": {},
   "source": [
    "### Interactive Visualization With `plotly`"
   ]
  },
  {
   "cell_type": "code",
   "execution_count": null,
   "id": "6ccc1d7d",
   "metadata": {},
   "outputs": [],
   "source": [
    "# bar chart showing number of players by major\n",
    "\n",
    "# generate bar chart\n",
    "fig = px.bar(merged_df, x='Major')\n",
    "\n",
    "# update xaxis to categorical variable\n",
    "fig.update_xaxes(type=\"category\")\n",
    "\n",
    "# show figure\n",
    "fig.show()"
   ]
  },
  {
   "cell_type": "code",
   "execution_count": null,
   "id": "7d37d54e",
   "metadata": {},
   "outputs": [],
   "source": [
    "# bar chart showing number of players by state\n",
    "\n",
    "# generate horizontal bar chart\n",
    "fig = px.bar(merged_df, y=\"State\")\n",
    "\n",
    "# show figure\n",
    "fig.show()"
   ]
  },
  {
   "cell_type": "code",
   "execution_count": null,
   "id": "27cfa164",
   "metadata": {},
   "outputs": [],
   "source": [
    "# horizontal chart showing number of players by city\n",
    "\n",
    "# generate horizontal bar chart\n",
    "fig = px.bar(merged_df, y=\"City\", orientation=\"h\")\n",
    "\n",
    "# show figure\n",
    "fig.show()"
   ]
  },
  {
   "cell_type": "markdown",
   "id": "66b1959b",
   "metadata": {},
   "source": [
    "#### Interactive Maps with Plotly\n",
    "\n",
    "##### Outline or Geo-Based Maps"
   ]
  },
  {
   "cell_type": "code",
   "execution_count": null,
   "id": "bc593326",
   "metadata": {},
   "outputs": [],
   "source": [
    "# filter dataframe to remove rows with NA values\n",
    "merged_df.dropna(axis='rows', inplace=True)\n",
    "\n",
    "# show updated dataframe info\n",
    "merged_df.info()"
   ]
  },
  {
   "cell_type": "code",
   "execution_count": null,
   "id": "6d5f3051",
   "metadata": {},
   "outputs": [],
   "source": [
    "# world scatter_geo plot generated using plotly express syntax\n",
    "\n",
    "# create figure\n",
    "roster_map = px.scatter_geo(merged_df, lat=\"Latitude\", lon=\"Longitude\", color = merged_df['Major'], hover_data = ['First_Name', 'Last_Name', 'Major', 'Standardized_City_State'])\n",
    "\n",
    "# update figure geometry\n",
    "roster_map.update_geos(visible=False, showcountries=True)\n",
    "\n",
    "# show figure\n",
    "roster_map.show()"
   ]
  },
  {
   "cell_type": "code",
   "execution_count": null,
   "id": "21825314",
   "metadata": {},
   "outputs": [],
   "source": [
    "# US scatter_geo plot generated using plotly express syntax\n",
    "\n",
    "# create figure\n",
    "merged_df = px.scatter_geo(merged_df, lat=\"Latitude\", lon=\"Longitude\", color = merged_df['Major'], hover_data = ['First_Name', 'Last_Name', 'Major', 'Standardized_City_State'])\n",
    "\n",
    "# updated figure geometry\n",
    "merged_df.update_geos(visible=False, scope='usa', showcountries=True, \n",
    "                          showsubunits=True, subunitcolor=\"Black\")\n",
    "\n",
    "# show figure\n",
    "merged_df.show()"
   ]
  }
 ],
 "metadata": {
  "kernelspec": {
   "display_name": "Python 3 (ipykernel)",
   "language": "python",
   "name": "python3"
  },
  "language_info": {
   "codemirror_mode": {
    "name": "ipython",
    "version": 3
   },
   "file_extension": ".py",
   "mimetype": "text/x-python",
   "name": "python",
   "nbconvert_exporter": "python",
   "pygments_lexer": "ipython3",
   "version": "3.9.7"
  }
 },
 "nbformat": 4,
 "nbformat_minor": 5
}
