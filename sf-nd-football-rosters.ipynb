{
 "cells": [
  {
   "cell_type": "markdown",
   "id": "65f376fe",
   "metadata": {},
   "source": [
    "# Scrape Combined ND Football Rosters From Sports Reference\n",
    "\n",
    "\n",
    "\n",
    "# Load Modules Using Import"
   ]
  },
  {
   "cell_type": "code",
   "execution_count": null,
   "id": "91c2d31d",
   "metadata": {},
   "outputs": [],
   "source": [
    "# import requests\n",
    "import requests\n",
    "\n",
    "# import csv\n",
    "import csv\n",
    "\n",
    "# import beautifulsoup\n",
    "from bs4 import BeautifulSoup\n",
    "from bs4 import Comment\n",
    "\n",
    "# import pandas\n",
    "import pandas as pd\n",
    "\n",
    "# import numpy\n",
    "import numpy as np"
   ]
  },
  {
   "cell_type": "markdown",
   "id": "a8bf5652",
   "metadata": {},
   "source": [
    "# Get List of Season URLs from Sports Reference"
   ]
  },
  {
   "cell_type": "code",
   "execution_count": null,
   "id": "ded132ca",
   "metadata": {},
   "outputs": [],
   "source": [
    "# root url\n",
    "root = \"https://www.sports-reference.com/cfb/schools/notre-dame/\"\n",
    "\n",
    "# year range\n",
    "years = range(1924, 2021, 1)\n",
    "\n",
    "# url tag\n",
    "tag = \".html\"\n",
    "\n",
    "# empty list for urls\n",
    "urls = []\n",
    "\n",
    "# for loop that concatenates full url\n",
    "for year in years:\n",
    "    urls.append(root + str(year) + tag)\n",
    "\n",
    "# show list of urls\n",
    "urls"
   ]
  },
  {
   "cell_type": "markdown",
   "id": "5bfa13f5",
   "metadata": {},
   "source": [
    "# Create Dictionary That Connects Season Year With URL"
   ]
  },
  {
   "cell_type": "code",
   "execution_count": null,
   "id": "515cfb8f",
   "metadata": {},
   "outputs": [],
   "source": [
    "test_dict = {years[i]: urls[i] for i in range(len(years))}\n",
    "\n",
    "test_dict"
   ]
  },
  {
   "cell_type": "markdown",
   "id": "ba40646d",
   "metadata": {},
   "source": [
    "# Create Dictionary of Pandas DataFrames with Each Year's Roster"
   ]
  },
  {
   "cell_type": "code",
   "execution_count": null,
   "id": "71ce691a",
   "metadata": {},
   "outputs": [],
   "source": [
    "# empty dictionary\n",
    "rosters = {}\n",
    "\n",
    "# for loop that loads roster table as pandas data frame and saves dataframe as dictionary value associated with season year key; also includes data cleaning lines within for loop\n",
    "for key, value in test_dict.items():\n",
    "    df_name = key\n",
    "    try:\n",
    "        page = requests.get(value)\n",
    "        soup = BeautifulSoup(page.text, 'html.parser')\n",
    "        comments = soup.find_all(string=lambda text: isinstance(text, Comment))\n",
    "        rushing_stats = comments[31]\n",
    "        test = BeautifulSoup(rushing_stats, 'html.parser')\n",
    "        table = test.find(\"table\")\n",
    "        dfs = pd.read_html(str(table))\n",
    "        df = dfs[0]\n",
    "        df.columns = [''.join(col).strip() for col in df.columns.values]\n",
    "        df.rename(columns = {'Unnamed: 0_level_0Rk': 'Rk', 'Unnamed: 1_level_0Player': 'Player', 'Unnamed: 2_level_0G': 'G'}, inplace=True)\n",
    "        df.loc[:, 'Season'] = key # create season column with dictionary key\n",
    "        rosters[df_name] = df\n",
    "    except:\n",
    "        continue\n",
    "\n",
    "# show dictionary\n",
    "rosters"
   ]
  },
  {
   "cell_type": "markdown",
   "id": "a0ec593e",
   "metadata": {},
   "source": [
    "# Combine Dictionary of DataFrames using `pd.concat`"
   ]
  },
  {
   "cell_type": "code",
   "execution_count": null,
   "id": "31dcbbc8",
   "metadata": {},
   "outputs": [],
   "source": [
    "# create combined_schedule df\n",
    "combined_roster = pd.concat(rosters.values(), ignore_index=True)\n",
    "\n",
    "# show df\n",
    "combined_roster"
   ]
  },
  {
   "cell_type": "code",
   "execution_count": null,
   "id": "5bf04a14",
   "metadata": {
    "scrolled": true
   },
   "outputs": [],
   "source": [
    "# create first and last name columns\n",
    "combined_roster[['First_Name', 'Last_Name']] = combined_roster.Player.str.split(\" \", 1, expand=True)\n",
    "\n",
    "# show updated dataframe\n",
    "combined_roster"
   ]
  },
  {
   "cell_type": "code",
   "execution_count": null,
   "id": "b8303e55",
   "metadata": {},
   "outputs": [],
   "source": [
    "# list with desired column order\n",
    "column_names = ['Rk', 'Season', 'Player', 'First_Name', 'Last_Name', 'G', 'RushingAtt', 'RushingYds', 'RushingAvg', 'RushingTD', 'ReceivingRec', 'ReceivingYds', 'ReceivingAvg', 'ReceivingTD', 'ScrimmagePlays', 'ScrimmageYds', 'ScrimmageAvg', 'ScrimmageTD']\n",
    "\n",
    "# reorder columns\n",
    "combined_roster = combined_roster.reindex(columns = column_names)\n",
    "\n",
    "# show updated dataframe\n",
    "combined_roster"
   ]
  },
  {
   "cell_type": "markdown",
   "id": "2b06646f",
   "metadata": {},
   "source": [
    "# Write DataFrame to CSV File"
   ]
  },
  {
   "cell_type": "code",
   "execution_count": null,
   "id": "a08da5b2",
   "metadata": {},
   "outputs": [],
   "source": [
    "# write combined_roster dataframe to csv file\n",
    "combined_roster.to_csv(\"combined_nd_rosters.csv\", index=False)"
   ]
  }
 ],
 "metadata": {
  "kernelspec": {
   "display_name": "Python 3",
   "language": "python",
   "name": "python3"
  },
  "language_info": {
   "codemirror_mode": {
    "name": "ipython",
    "version": 3
   },
   "file_extension": ".py",
   "mimetype": "text/x-python",
   "name": "python",
   "nbconvert_exporter": "python",
   "pygments_lexer": "ipython3",
   "version": "3.8.8"
  }
 },
 "nbformat": 4,
 "nbformat_minor": 5
}
